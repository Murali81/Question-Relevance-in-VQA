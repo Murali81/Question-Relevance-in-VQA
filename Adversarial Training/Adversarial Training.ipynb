{
 "cells": [
  {
   "cell_type": "code",
   "execution_count": 1,
   "metadata": {
    "collapsed": true
   },
   "outputs": [],
   "source": [
    "\n",
    "import torch\n",
    "import torch.nn as nn\n",
    "import torch.nn.functional as F\n",
    "import torch.optim as optim\n",
    "from torch.autograd import Variable\n",
    "\n",
    "# torch.manual_seed(1)"
   ]
  },
  {
   "cell_type": "code",
   "execution_count": 2,
   "metadata": {
    "collapsed": true
   },
   "outputs": [],
   "source": [
    "%matplotlib inline\n",
    "\n",
    "import pandas as pd\n",
    "import numpy as np\n",
    "import seaborn as sns\n",
    "import matplotlib.pyplot as plt\n"
   ]
  },
  {
   "cell_type": "code",
   "execution_count": 3,
   "metadata": {
    "collapsed": true
   },
   "outputs": [],
   "source": [
    "import pickle"
   ]
  },
  {
   "cell_type": "code",
   "execution_count": 4,
   "metadata": {
    "collapsed": true
   },
   "outputs": [],
   "source": [
    "# input_size = 2 \n",
    "hidden_size = 2048 # randomly chosen\n",
    "output_size = 1 # we want it to return a number that can be used to calculate the difference from the actual number\n",
    "\n",
    "class NeuralNetwork(nn.Module):\n",
    "    def __init__(self,img_dim, output_size):\n",
    "        \n",
    "        super(NeuralNetwork, self).__init__()\n",
    "        \n",
    "        \n",
    "        # weights \n",
    "#         self.W = torch.randn(img_dim,img_dim , requires_grad=True)\n",
    "\n",
    "#         self.theta_D = torch.randn(num_img, img_dim, requires_grad=True)\n",
    "        \n",
    "        \n",
    "        self.W = nn.Linear(img_dim,img_dim)\n",
    "        \n",
    "        self.discriminator_thetaD = nn.Linear(img_dim,hidden_size)\n",
    "        self.discriminator_hiddn = nn.Linear(hidden_size,output_size)\n",
    "\n",
    "\n",
    "        \n",
    "# Add bias\n",
    "        self.b1 = torch.randn(img_dim, requires_grad=True)\n",
    "\n",
    "#         self.b2 = torch.randn(hidden_size, requires_grad=True)\n",
    "#         self.b3 = torch.randn(output_size, requires_grad=True)\n",
    "        \n",
    "        \n",
    "    def forward(self, inp_matrix,phase='Discriminate',typeinp='img'):\n",
    "        \n",
    "        if phase == 'Discriminate' and typeinp=='img':\n",
    "\n",
    "            self.W.trainable = False\n",
    "            self.discriminator_thetaD.trainable = True\n",
    "            self.discriminator_hiddn.trainable = True\n",
    "            \n",
    "            \n",
    "            wTx = self.W(inp_matrix)\n",
    "\n",
    "            \n",
    "            discriminator_hidden_in = self.discriminator_thetaD(wTx)\n",
    "            out = self.discriminator_hiddn(discriminator_hidden_in)\n",
    "            out=out.view(-1)\n",
    "\n",
    "            return nn.Sigmoid()(out)\n",
    "\n",
    "        if phase == 'Discriminate' and typeinp=='text':\n",
    "\n",
    "            self.W.trainable = False\n",
    "            self.discriminator_thetaD.trainable = True\n",
    "            self.discriminator_hiddn.trainable = True\n",
    "            \n",
    "            \n",
    "#             wTx = self.W(img)\n",
    "\n",
    "            \n",
    "            discriminator_hidden_in = self.discriminator_thetaD(inp_matrix)\n",
    "            out = self.discriminator_hiddn(discriminator_hidden_in)\n",
    "            out=out.view(-1)\n",
    "\n",
    "            return nn.Sigmoid()(out)\n",
    "\n",
    "        if phase == 'Map' and typeinp=='img' :\n",
    "            self.W.trainable = True\n",
    "            \n",
    "            wTx = self.W(inp_matrix)\n",
    "            \n",
    "            self.discriminator_thetaD.trainable = True\n",
    "            self.discriminator_hiddn.trainable = True\n",
    "            \n",
    "            \n",
    "            discriminator_hidden_in = self.discriminator_thetaD(wTx)\n",
    "            out = self.discriminator_hiddn(discriminator_hidden_in)\n",
    "            out = out.view(-1)\n",
    "            return nn.Sigmoid()(out)\n",
    "            \n",
    "        if phase == 'Map' and typeinp=='text' :\n",
    "            self.W.trainable = True\n",
    "            \n",
    "#             wTx = self.W(inp_matrix)\n",
    "            \n",
    "            self.discriminator_thetaD.trainable = True\n",
    "            self.discriminator_hiddn.trainable = True\n",
    "            \n",
    "            \n",
    "            discriminator_hidden_in = self.discriminator_thetaD(inp_matrix)\n",
    "            out = self.discriminator_hiddn(discriminator_hidden_in)\n",
    "            out = out.view(-1)\n",
    "            return nn.Sigmoid()(out)\n",
    "\n",
    "            \n"
   ]
  },
  {
   "cell_type": "code",
   "execution_count": 5,
   "metadata": {
    "collapsed": true
   },
   "outputs": [],
   "source": [
    "dimension_space = 300\n",
    "\n",
    "nne = NeuralNetwork(dimension_space,1).cuda()"
   ]
  },
  {
   "cell_type": "code",
   "execution_count": 6,
   "metadata": {
    "collapsed": true
   },
   "outputs": [],
   "source": [
    "\n",
    "learning_rate = 0.01\n",
    "\n",
    "# create a stochastic gradient descent optimizer\n",
    "# optimizer = optim.SGD(nne.parameters(), lr=learning_rate, momentum=0.9)\n",
    "\n",
    "# optimizer = optim.Adam([var1, var2], lr = 0.0001)\n",
    "\n",
    "optimizer = optim.Adam(nne.parameters(), lr = 0.0001)\n",
    "\n",
    "# create a loss function\n",
    "criterion = nn.BCELoss().cuda()"
   ]
  },
  {
   "cell_type": "code",
   "execution_count": 7,
   "metadata": {},
   "outputs": [
    {
     "data": {
      "text/plain": [
       "NeuralNetwork(\n",
       "  (W): Linear(in_features=300, out_features=300, bias=True)\n",
       "  (discriminator_thetaD): Linear(in_features=300, out_features=2048, bias=True)\n",
       "  (discriminator_hiddn): Linear(in_features=2048, out_features=1, bias=True)\n",
       ")"
      ]
     },
     "execution_count": 7,
     "metadata": {},
     "output_type": "execute_result"
    }
   ],
   "source": [
    "nne"
   ]
  },
  {
   "cell_type": "code",
   "execution_count": 8,
   "metadata": {
    "collapsed": true
   },
   "outputs": [],
   "source": [
    "import numpy as np\n",
    "\n",
    "# num_instances = 30000\n",
    "\n",
    "# input_img = np.random.rand(num_instances,300)\n",
    "# input_text = np.random.rand(num_instances,300)\n",
    "\n",
    "with open(\"ques_matrix.pickle\",\"rb\") as fh:\n",
    "    input_text = pickle.load(fh)\n",
    "\n",
    "with open(\"imgs_matrix.pickle\",\"rb\") as fh:\n",
    "    input_img = pickle.load(fh)\n",
    "    \n",
    "num_instances = len(input_img)"
   ]
  },
  {
   "cell_type": "code",
   "execution_count": 9,
   "metadata": {},
   "outputs": [
    {
     "data": {
      "text/plain": [
       "array([[ 2.349762  ,  2.2534468 ,  0.5039957 , ..., -0.7935544 ,\n",
       "         0.02391236, -0.8734526 ],\n",
       "       [ 2.349762  ,  2.2534468 ,  0.5039957 , ..., -0.7935544 ,\n",
       "         0.02391236, -0.8734526 ],\n",
       "       [ 2.349762  ,  2.2534468 ,  0.5039957 , ..., -0.7935544 ,\n",
       "         0.02391236, -0.8734526 ],\n",
       "       ...,\n",
       "       [-6.1800056 ,  0.33435112,  0.4804101 , ..., -0.02356215,\n",
       "         0.02870018,  0.4167842 ],\n",
       "       [-6.1800056 ,  0.33435112,  0.4804101 , ..., -0.02356215,\n",
       "         0.02870018,  0.4167842 ],\n",
       "       [-6.1800056 ,  0.33435112,  0.4804101 , ..., -0.02356215,\n",
       "         0.02870018,  0.4167842 ]], dtype=float32)"
      ]
     },
     "execution_count": 9,
     "metadata": {},
     "output_type": "execute_result"
    }
   ],
   "source": [
    "input_img"
   ]
  },
  {
   "cell_type": "code",
   "execution_count": 10,
   "metadata": {
    "collapsed": true
   },
   "outputs": [],
   "source": [
    "num_epochs = 35"
   ]
  },
  {
   "cell_type": "code",
   "execution_count": 11,
   "metadata": {
    "collapsed": true
   },
   "outputs": [],
   "source": [
    "discriminator_img_loss = []\n",
    "discriminator_text_loss = []\n",
    "mapper_loss = []\n",
    "mapper_text_loss = []"
   ]
  },
  {
   "cell_type": "code",
   "execution_count": 12,
   "metadata": {
    "collapsed": true
   },
   "outputs": [],
   "source": [
    "for epoch in range(num_epochs):\n",
    "    \n",
    "    ## Discriminate. For image, it is 1, saying it comes from different distribution\n",
    "    outed = nne( Variable(torch.from_numpy(input_img)).cuda().float(),phase='Discriminate',typeinp='img')\n",
    "    \n",
    "    targets = (torch.ones(num_instances).cuda()).fill_(0.8)  # Smoothing suggested by GoodFellow\n",
    "    \n",
    "    loss = criterion(outed,targets)\n",
    "    discriminator_img_loss.append(loss.cpu().tolist())\n",
    "    loss.backward()\n",
    "    optimizer.step()\n",
    "\n",
    "    ## Discriminate. For text, it is 0 saying it is text, from same distribution \n",
    "    outed = nne( Variable(torch.from_numpy(input_text)).cuda().float(),phase='Discriminate',typeinp='text')\n",
    "    targets = (torch.zeros(num_instances).cuda()).fill_(0.2)\n",
    "    \n",
    "    loss = criterion(outed,torch.zeros(num_instances).cuda())\n",
    "    \n",
    "    \n",
    "    discriminator_text_loss.append(loss.cpu().tolist())\n",
    "    loss.backward()\n",
    "    optimizer.step()\n",
    "\n",
    "    ## Mapper , Training in a way to fool discriminator think that vector from image distribution is from text distribution. \n",
    "    outed = nne( Variable(torch.from_numpy(input_img)).cuda().float(),phase='Map',typeinp='img')\n",
    "    loss = criterion(outed,torch.zeros(num_instances).cuda())\n",
    "    mapper_loss.append(loss.cpu().tolist())\n",
    "    loss.backward()\n",
    "    optimizer.step()\n",
    "    \n",
    "    ## Mapper , Training in a way to fool discriminator think that vector from text distribution is from image distribution. \n",
    "\n",
    "#     outed = nne( Variable(torch.from_numpy(input_img)).cuda().float(),phase='Map',typeinp='text')\n",
    "#     loss = criterion(outed,torch.ones(num_instances).cuda())\n",
    "#     mapper_text_loss.append(loss.cpu().tolist())\n",
    "#     loss.backward()\n",
    "#     optimizer.step()\n",
    "    \n",
    "    "
   ]
  },
  {
   "cell_type": "code",
   "execution_count": 13,
   "metadata": {
    "scrolled": true
   },
   "outputs": [],
   "source": [
    "# discriminator_img_loss"
   ]
  },
  {
   "cell_type": "code",
   "execution_count": 14,
   "metadata": {
    "scrolled": true
   },
   "outputs": [
    {
     "data": {
      "text/plain": [
       "<matplotlib.legend.Legend at 0x20b04e2c400>"
      ]
     },
     "execution_count": 14,
     "metadata": {},
     "output_type": "execute_result"
    },
    {
     "data": {
      "image/png": "[encoded data removed]",
      "text/plain": [
       "<Figure size 432x288 with 1 Axes>"
      ]
     },
     "metadata": {},
     "output_type": "display_data"
    }
   ],
   "source": [
    "plt.xlabel(\"epoch\")\n",
    "plt.ylabel(\"loss\")\n",
    "plt.plot([i for i in range(num_epochs)],discriminator_img_loss,label='discriminator image loss')\n",
    "plt.plot([i for i in range(num_epochs)],discriminator_text_loss,label='discriminator text loss')\n",
    "plt.plot([i for i in range(num_epochs)],mapper_loss,label='mapper loss')\n",
    "# plt.plot([i for i in range(num_epochs)],mapper_text_loss,label='mapper text loss')\n",
    "plt.legend(loc='upper right')"
   ]
  },
  {
   "cell_type": "code",
   "execution_count": null,
   "metadata": {
    "collapsed": true
   },
   "outputs": [],
   "source": []
  },
  {
   "cell_type": "code",
   "execution_count": null,
   "metadata": {
    "collapsed": true
   },
   "outputs": [],
   "source": []
  },
  {
   "cell_type": "markdown",
   "metadata": {},
   "source": [
    "## tSNE demo"
   ]
  },
  {
   "cell_type": "code",
   "execution_count": null,
   "metadata": {
    "collapsed": true
   },
   "outputs": [],
   "source": [
    "from sklearn.manifold import TSNE\n"
   ]
  },
  {
   "cell_type": "code",
   "execution_count": null,
   "metadata": {
    "collapsed": true
   },
   "outputs": [],
   "source": [
    "tsne_model = TSNE(n_components=2, verbose=1, random_state=0, angle=.99, init='pca')\n"
   ]
  },
  {
   "cell_type": "code",
   "execution_count": null,
   "metadata": {
    "collapsed": true
   },
   "outputs": [],
   "source": [
    "import numpy as np\n",
    "# test_inp = np.random.rand(1000,300)"
   ]
  },
  {
   "cell_type": "code",
   "execution_count": null,
   "metadata": {},
   "outputs": [],
   "source": [
    "tsne_lda = tsne_model.fit_transform(input_text)"
   ]
  },
  {
   "cell_type": "code",
   "execution_count": null,
   "metadata": {
    "collapsed": true
   },
   "outputs": [],
   "source": [
    "import numpy as np\n",
    "import bokeh.plotting as bp\n",
    "from bokeh.plotting import save\n",
    "from bokeh.models import HoverTool\n",
    "\n",
    "n_top_words = 5 # number of keywords we show\n",
    "\n",
    "# 20 colors\n",
    "colormap = np.array([\n",
    "    \"#1f77b4\", \"#aec7e8\", \"#ff7f0e\", \"#ffbb78\", \"#2ca02c\",\n",
    "    \"#98df8a\", \"#d62728\", \"#ff9896\", \"#9467bd\", \"#c5b0d5\",\n",
    "    \"#8c564b\", \"#c49c94\", \"#e377c2\", \"#f7b6d2\", \"#7f7f7f\",\n",
    "    \"#c7c7c7\", \"#bcbd22\", \"#dbdb8d\", \"#17becf\", \"#9edae5\"\n",
    "])"
   ]
  },
  {
   "cell_type": "code",
   "execution_count": null,
   "metadata": {
    "collapsed": true
   },
   "outputs": [],
   "source": [
    "num_example = test_inp.shape[0]\n",
    "title='visual trials'\n",
    "plot_lda = bp.figure(plot_width=1400, plot_height=1100,\n",
    "                     title=title,\n",
    "                     tools=\"pan,wheel_zoom,box_zoom,reset,hover,previewsave\",\n",
    "                     x_axis_type=None, y_axis_type=None, min_border=1)\n",
    "\n",
    "plot_lda.scatter(x=tsne_lda[:, 0], y=tsne_lda[:, 1],source=bp.ColumnDataSource({\"content\": test_inp,}))\n",
    "\n"
   ]
  },
  {
   "cell_type": "code",
   "execution_count": null,
   "metadata": {
    "collapsed": true
   },
   "outputs": [],
   "source": [
    "# hover tools\n",
    "hover = plot_lda.select(dict(type=HoverTool))\n",
    "hover.tooltips = {\"content\": \"@content - topic: @topic_key\"}\n",
    "\n",
    "# save the plot\n",
    "save(plot_lda, '{}.html'.format(title))"
   ]
  },
  {
   "cell_type": "markdown",
   "metadata": {},
   "source": [
    "# Just checking the updatability property"
   ]
  },
  {
   "cell_type": "code",
   "execution_count": null,
   "metadata": {
    "collapsed": true
   },
   "outputs": [],
   "source": []
  },
  {
   "cell_type": "code",
   "execution_count": null,
   "metadata": {
    "collapsed": true
   },
   "outputs": [],
   "source": []
  },
  {
   "cell_type": "code",
   "execution_count": null,
   "metadata": {
    "collapsed": true
   },
   "outputs": [],
   "source": []
  },
  {
   "cell_type": "code",
   "execution_count": null,
   "metadata": {
    "collapsed": true
   },
   "outputs": [],
   "source": []
  },
  {
   "cell_type": "code",
   "execution_count": null,
   "metadata": {
    "collapsed": true
   },
   "outputs": [],
   "source": []
  },
  {
   "cell_type": "code",
   "execution_count": null,
   "metadata": {
    "collapsed": true,
    "scrolled": true
   },
   "outputs": [],
   "source": [
    "outed = nne( Variable(torch.from_numpy(input_img)).cuda().float(),phase='Discriminate')"
   ]
  },
  {
   "cell_type": "code",
   "execution_count": null,
   "metadata": {
    "collapsed": true
   },
   "outputs": [],
   "source": [
    "nne.W.weight"
   ]
  },
  {
   "cell_type": "code",
   "execution_count": null,
   "metadata": {
    "collapsed": true
   },
   "outputs": [],
   "source": [
    "nne.discriminator_thetaD.weight"
   ]
  },
  {
   "cell_type": "code",
   "execution_count": null,
   "metadata": {
    "collapsed": true,
    "scrolled": true
   },
   "outputs": [],
   "source": [
    "nne.discriminator_hiddn.weight"
   ]
  },
  {
   "cell_type": "code",
   "execution_count": null,
   "metadata": {
    "collapsed": true
   },
   "outputs": [],
   "source": [
    "outed.shape"
   ]
  },
  {
   "cell_type": "code",
   "execution_count": null,
   "metadata": {
    "collapsed": true
   },
   "outputs": [],
   "source": []
  },
  {
   "cell_type": "code",
   "execution_count": null,
   "metadata": {
    "collapsed": true
   },
   "outputs": [],
   "source": [
    "loss = criterion(outed,torch.ones(1000))\n",
    "loss.backward()\n",
    "optimizer.step()"
   ]
  },
  {
   "cell_type": "code",
   "execution_count": null,
   "metadata": {
    "collapsed": true
   },
   "outputs": [],
   "source": [
    "nne.W.weight"
   ]
  },
  {
   "cell_type": "code",
   "execution_count": null,
   "metadata": {
    "collapsed": true
   },
   "outputs": [],
   "source": [
    "nne.discriminator_thetaD.weight"
   ]
  },
  {
   "cell_type": "code",
   "execution_count": null,
   "metadata": {
    "collapsed": true
   },
   "outputs": [],
   "source": []
  }
 ],
 "metadata": {
  "kernelspec": {
   "display_name": "Python [default]",
   "language": "python",
   "name": "python3"
  },
  "language_info": {
   "codemirror_mode": {
    "name": "ipython",
    "version": 3
   },
   "file_extension": ".py",
   "mimetype": "text/x-python",
   "name": "python",
   "nbconvert_exporter": "python",
   "pygments_lexer": "ipython3",
   "version": "3.6.6"
  }
 },
 "nbformat": 4,
 "nbformat_minor": 2
}
