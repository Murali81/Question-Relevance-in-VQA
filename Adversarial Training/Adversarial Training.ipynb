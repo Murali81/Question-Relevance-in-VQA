{
 "cells": [
  {
   "cell_type": "code",
   "execution_count": 1,
   "metadata": {},
   "outputs": [],
   "source": [
    "\n",
    "import torch\n",
    "import torch.nn as nn\n",
    "import torch.nn.functional as F\n",
    "import torch.optim as optim\n",
    "from torch.autograd import Variable\n",
    "\n",
    "# torch.manual_seed(1)"
   ]
  },
  {
   "cell_type": "code",
   "execution_count": 2,
   "metadata": {
    "collapsed": true
   },
   "outputs": [],
   "source": [
    "%matplotlib inline\n",
    "\n",
    "import pandas as pd\n",
    "import numpy as np\n",
    "import seaborn as sns\n",
    "import matplotlib.pyplot as plt\n"
   ]
  },
  {
   "cell_type": "code",
   "execution_count": 3,
   "metadata": {
    "collapsed": true
   },
   "outputs": [],
   "source": [
    "# input_size = 2 \n",
    "hidden_size = 400 # randomly chosen\n",
    "output_size = 1 # we want it to return a number that can be used to calculate the difference from the actual number\n",
    "\n",
    "class NeuralNetwork(nn.Module):\n",
    "    def __init__(self,img_dim, output_size):\n",
    "        \n",
    "        super(NeuralNetwork, self).__init__()\n",
    "        \n",
    "        \n",
    "        # weights \n",
    "#         self.W = torch.randn(img_dim,img_dim , requires_grad=True)\n",
    "\n",
    "#         self.theta_D = torch.randn(num_img, img_dim, requires_grad=True)\n",
    "        \n",
    "        \n",
    "        self.W = nn.Linear(img_dim,img_dim)\n",
    "        \n",
    "        self.discriminator_thetaD = nn.Linear(img_dim,hidden_size)\n",
    "        self.discriminator_hiddn = nn.Linear(hidden_size,output_size)\n",
    "\n",
    "\n",
    "        \n",
    "# Add bias\n",
    "        self.b1 = torch.randn(img_dim, requires_grad=True)\n",
    "\n",
    "#         self.b2 = torch.randn(hidden_size, requires_grad=True)\n",
    "#         self.b3 = torch.randn(output_size, requires_grad=True)\n",
    "        \n",
    "        \n",
    "    def forward(self, img,phase='Discriminate'):\n",
    "        \n",
    "        if phase == 'Discriminate':\n",
    "\n",
    "            self.W.trainable = False\n",
    "            self.discriminator_thetaD.trainable = True\n",
    "            self.discriminator_hiddn.trainable = True\n",
    "            \n",
    "            \n",
    "            wTx = self.W(img)\n",
    "\n",
    "            \n",
    "            discriminator_hidden_in = self.discriminator_thetaD(wTx)\n",
    "            out = self.discriminator_hiddn(discriminator_hidden_in)\n",
    "            out=out.view(-1)\n",
    "\n",
    "            return nn.Sigmoid()(out)\n",
    "        \n",
    "        elif phase == 'Map' :\n",
    "            self.W.trainable = True\n",
    "            \n",
    "            wTx = self.W(img)\n",
    "            \n",
    "            self.discriminator_thetaD.trainable = False\n",
    "            self.discriminator_hiddn.trainable = False\n",
    "            \n",
    "            \n",
    "            discriminator_hidden_in = self.discriminator_thetaD(wTx)\n",
    "            out = self.discriminator_hiddn(discriminator_hidden_in)\n",
    "            out = out.view(-1)\n",
    "            return nn.Sigmoid()(out)\n",
    "            \n",
    "\n",
    "            \n"
   ]
  },
  {
   "cell_type": "code",
   "execution_count": 4,
   "metadata": {},
   "outputs": [],
   "source": [
    "dimension_space = 300\n",
    "\n",
    "nne = NeuralNetwork(dimension_space,1).cuda()"
   ]
  },
  {
   "cell_type": "code",
   "execution_count": 5,
   "metadata": {},
   "outputs": [],
   "source": [
    "\n",
    "learning_rate = 0.01\n",
    "\n",
    "# create a stochastic gradient descent optimizer\n",
    "# optimizer = optim.SGD(nne.parameters(), lr=learning_rate, momentum=0.9)\n",
    "\n",
    "# optimizer = optim.Adam([var1, var2], lr = 0.0001)\n",
    "\n",
    "optimizer = optim.Adam(nne.parameters(), lr = 0.0001)\n",
    "\n",
    "# create a loss function\n",
    "criterion = nn.BCELoss().cuda()"
   ]
  },
  {
   "cell_type": "code",
   "execution_count": 6,
   "metadata": {},
   "outputs": [
    {
     "data": {
      "text/plain": [
       "NeuralNetwork(\n",
       "  (W): Linear(in_features=300, out_features=300, bias=True)\n",
       "  (discriminator_thetaD): Linear(in_features=300, out_features=400, bias=True)\n",
       "  (discriminator_hiddn): Linear(in_features=400, out_features=1, bias=True)\n",
       ")"
      ]
     },
     "execution_count": 6,
     "metadata": {},
     "output_type": "execute_result"
    }
   ],
   "source": [
    "nne"
   ]
  },
  {
   "cell_type": "code",
   "execution_count": 7,
   "metadata": {},
   "outputs": [],
   "source": [
    "import numpy as np\n",
    "\n",
    "num_instances = 30000\n",
    "\n",
    "input_img = np.random.rand(num_instances,300)\n",
    "input_text = np.random.rand(num_instances,300)"
   ]
  },
  {
   "cell_type": "code",
   "execution_count": 8,
   "metadata": {},
   "outputs": [
    {
     "data": {
      "text/plain": [
       "array([[0.31991384, 0.15185025, 0.14027145, ..., 0.41714736, 0.87691122,\n",
       "        0.47720726],\n",
       "       [0.17759881, 0.88175374, 0.46719948, ..., 0.13981627, 0.13506835,\n",
       "        0.37412817],\n",
       "       [0.42214039, 0.02733875, 0.9220513 , ..., 0.27714024, 0.15083715,\n",
       "        0.21847283],\n",
       "       ...,\n",
       "       [0.93365734, 0.6797453 , 0.55035065, ..., 0.93524994, 0.7880637 ,\n",
       "        0.75098094],\n",
       "       [0.46353613, 0.158073  , 0.3049391 , ..., 0.35150793, 0.91228123,\n",
       "        0.04454267],\n",
       "       [0.47995546, 0.15270007, 0.12566643, ..., 0.89469133, 0.06348797,\n",
       "        0.50674115]])"
      ]
     },
     "execution_count": 8,
     "metadata": {},
     "output_type": "execute_result"
    }
   ],
   "source": [
    "input_img"
   ]
  },
  {
   "cell_type": "code",
   "execution_count": 9,
   "metadata": {
    "collapsed": true
   },
   "outputs": [],
   "source": [
    "num_epochs = 200"
   ]
  },
  {
   "cell_type": "code",
   "execution_count": 10,
   "metadata": {
    "collapsed": true
   },
   "outputs": [],
   "source": [
    "discriminator_img_loss = []\n",
    "discriminator_text_loss = []\n",
    "mapper_loss = []"
   ]
  },
  {
   "cell_type": "code",
   "execution_count": 11,
   "metadata": {},
   "outputs": [],
   "source": [
    "for epoch in range(num_epochs):\n",
    "    \n",
    "    ## Discriminate. For image, it is 1, saying it comes from different distribution\n",
    "    outed = nne( Variable(torch.from_numpy(input_img)).cuda().float(),phase='Discriminate')\n",
    "    loss = criterion(outed,torch.ones(num_instances).cuda())\n",
    "    discriminator_img_loss.append(loss.cpu().tolist())\n",
    "    loss.backward()\n",
    "    optimizer.step()\n",
    "\n",
    "    ## Discriminate. For text, it is 0 saying it is text, from same distribution \n",
    "    outed = nne( Variable(torch.from_numpy(input_text)).cuda().float(),phase='Discriminate')\n",
    "    loss = criterion(outed,torch.zeros(num_instances).cuda())\n",
    "    discriminator_text_loss.append(loss.cpu().tolist())\n",
    "    loss.backward()\n",
    "    optimizer.step()\n",
    "\n",
    "    ## Mapper , Training in a way to fool discriminator think that vector from image distribution is from text distribution. \n",
    "    outed = nne( Variable(torch.from_numpy(input_img)).cuda().float(),phase='Map')\n",
    "    loss = criterion(outed,torch.zeros(num_instances).cuda())\n",
    "    mapper_loss.append(loss.cpu().tolist())\n",
    "    loss.backward()\n",
    "    optimizer.step()\n",
    "    \n",
    "    \n",
    "    "
   ]
  },
  {
   "cell_type": "code",
   "execution_count": 12,
   "metadata": {
    "scrolled": true
   },
   "outputs": [
    {
     "data": {
      "text/plain": [
       "[0.6786667108535767,\n",
       " 0.5889273285865784,\n",
       " 0.6837907433509827,\n",
       " 0.8529072403907776,\n",
       " 1.070701003074646,\n",
       " 1.3295073509216309,\n",
       " 1.6087963581085205,\n",
       " 1.8505845069885254,\n",
       " 1.9603993892669678,\n",
       " 1.8685916662216187,\n",
       " 1.5931390523910522,\n",
       " 1.218384861946106,\n",
       " 0.8406489491462708,\n",
       " 0.5350297689437866,\n",
       " 0.3374940752983093,\n",
       " 0.24572902917861938,\n",
       " 0.24002037942409515,\n",
       " 0.3073723018169403,\n",
       " 0.4525262117385864,\n",
       " 0.685449481010437,\n",
       " 1.0019159317016602,\n",
       " 1.3768162727355957,\n",
       " 1.7723296880722046,\n",
       " 2.1466307640075684,\n",
       " 2.454838991165161,\n",
       " 2.6472854614257812,\n",
       " 2.672959566116333,\n",
       " 2.493110179901123,\n",
       " 2.103550434112549,\n",
       " 1.5563292503356934,\n",
       " 0.970317542552948,\n",
       " 0.49961888790130615,\n",
       " 0.22494830191135406,\n",
       " 0.10207461565732956,\n",
       " 0.05490829795598984,\n",
       " 0.03975661098957062,\n",
       " 0.0412275604903698,\n",
       " 0.060426015406847,\n",
       " 0.11612098664045334,\n",
       " 0.2602151334285736,\n",
       " 0.5875739455223083,\n",
       " 1.16707444190979,\n",
       " 1.9318712949752808,\n",
       " 2.738297462463379,\n",
       " 3.4771132469177246,\n",
       " 4.085101127624512,\n",
       " 4.522702217102051,\n",
       " 4.761753559112549,\n",
       " 4.783408164978027,\n",
       " 4.579901695251465,\n",
       " 4.156224727630615,\n",
       " 3.5311098098754883,\n",
       " 2.740898609161377,\n",
       " 1.8560320138931274,\n",
       " 1.0182970762252808,\n",
       " 0.4274589717388153,\n",
       " 0.14696438610553741,\n",
       " 0.049441415816545486,\n",
       " 0.019325265660881996,\n",
       " 0.009960583411157131,\n",
       " 0.007266657426953316,\n",
       " 0.007585964631289244,\n",
       " 0.010926277376711369,\n",
       " 0.020367519930005074,\n",
       " 0.045531339943408966,\n",
       " 0.11237657070159912,\n",
       " 0.2790442407131195,\n",
       " 0.6289409399032593,\n",
       " 1.1910758018493652,\n",
       " 1.8815327882766724,\n",
       " 2.5829286575317383,\n",
       " 3.217296600341797,\n",
       " 3.7448480129241943,\n",
       " 4.145456314086914,\n",
       " 4.407560348510742,\n",
       " 4.523586273193359,\n",
       " 4.488592147827148,\n",
       " 4.30032205581665,\n",
       " 3.959944486618042,\n",
       " 3.4735453128814697,\n",
       " 2.8555691242218018,\n",
       " 2.137722969055176,\n",
       " 1.3891797065734863,\n",
       " 0.7372506260871887,\n",
       " 0.312057226896286,\n",
       " 0.11310431361198425,\n",
       " 0.03971816971898079,\n",
       " 0.015090667642652988,\n",
       " 0.006772627122700214,\n",
       " 0.003850586013868451,\n",
       " 0.0029129856266081333,\n",
       " 0.0029991972260177135,\n",
       " 0.004180204588919878,\n",
       " 0.007654554210603237,\n",
       " 0.01753230020403862,\n",
       " 0.047086451202631,\n",
       " 0.13646022975444794,\n",
       " 0.3808094263076782,\n",
       " 0.8947916626930237,\n",
       " 1.6515052318572998,\n",
       " 2.483280658721924,\n",
       " 3.2519583702087402,\n",
       " 3.8890421390533447,\n",
       " 4.36317777633667,\n",
       " 4.657321929931641,\n",
       " 4.7591552734375,\n",
       " 4.657552719116211,\n",
       " 4.341777801513672,\n",
       " 3.8028297424316406,\n",
       " 3.0395328998565674,\n",
       " 2.081995725631714,\n",
       " 1.0714199542999268,\n",
       " 0.3470520079135895,\n",
       " 0.07299723476171494,\n",
       " 0.012946500442922115,\n",
       " 0.0024063829332590103,\n",
       " 0.0005481623229570687,\n",
       " 0.00017512957856524736,\n",
       " 8.815863111522049e-05,\n",
       " 7.648392056580633e-05,\n",
       " 0.00012087366485502571,\n",
       " 0.000353536190232262,\n",
       " 0.0018686612602323294,\n",
       " 0.016746774315834045,\n",
       " 0.21448424458503723,\n",
       " 1.745232343673706,\n",
       " 4.70734977722168,\n",
       " 7.834982395172119,\n",
       " 10.848515510559082,\n",
       " 13.666383743286133,\n",
       " 16.237424850463867,\n",
       " 18.523258209228516,\n",
       " 20.49221420288086,\n",
       " 22.116655349731445,\n",
       " 23.372541427612305,\n",
       " 24.240718841552734,\n",
       " 24.7091064453125,\n",
       " 24.773975372314453,\n",
       " 24.439292907714844,\n",
       " 23.715255737304688,\n",
       " 22.617881774902344,\n",
       " 21.16984748840332,\n",
       " 19.40089988708496,\n",
       " 17.34695816040039,\n",
       " 15.048240661621094,\n",
       " 12.54699420928955,\n",
       " 9.885316848754883,\n",
       " 7.103787422180176,\n",
       " 4.250718116760254,\n",
       " 1.5561506748199463,\n",
       " 0.18375232815742493,\n",
       " 0.011808138340711594,\n",
       " 0.0008496080990880728,\n",
       " 8.049612370086834e-05,\n",
       " 1.0787512110255193e-05,\n",
       " 2.158859388146084e-06,\n",
       " 6.720624696754385e-07,\n",
       " 3.342032641739934e-07,\n",
       " 2.676924282241089e-07,\n",
       " 3.406246946724423e-07,\n",
       " 6.685140192530525e-07,\n",
       " 1.9231222267990233e-06,\n",
       " 7.608281521243043e-06,\n",
       " 3.850947177852504e-05,\n",
       " 0.0002312211727257818,\n",
       " 0.00153024320024997,\n",
       " 0.010407887399196625,\n",
       " 0.0673132985830307,\n",
       " 0.35825422406196594,\n",
       " 1.2179220914840698,\n",
       " 2.5089261531829834,\n",
       " 3.819565773010254,\n",
       " 4.971747875213623,\n",
       " 5.912233352661133,\n",
       " 6.618439674377441,\n",
       " 7.073897361755371,\n",
       " 7.262279510498047,\n",
       " 7.165814399719238,\n",
       " 6.765042781829834,\n",
       " 6.039337635040283,\n",
       " 4.96900749206543,\n",
       " 3.5463082790374756,\n",
       " 1.8544241189956665,\n",
       " 0.4626040458679199,\n",
       " 0.04623384028673172,\n",
       " 0.0033027776516973972,\n",
       " 0.0002422293764539063,\n",
       " 2.2143081878311932e-05,\n",
       " 2.9801544769725297e-06,\n",
       " 6.899796858306217e-07,\n",
       " 3.169338356201479e-07,\n",
       " 3.275871449659462e-07,\n",
       " 8.464658094453625e-07,\n",
       " 5.910350864724023e-06,\n",
       " 0.00011791567521868274,\n",
       " 0.006886359304189682,\n",
       " 0.7744203209877014,\n",
       " 6.216518878936768,\n",
       " 12.861990928649902,\n",
       " 19.79578971862793]"
      ]
     },
     "execution_count": 12,
     "metadata": {},
     "output_type": "execute_result"
    }
   ],
   "source": [
    "discriminator_img_loss"
   ]
  },
  {
   "cell_type": "code",
   "execution_count": 13,
   "metadata": {},
   "outputs": [
    {
     "data": {
      "text/plain": [
       "<matplotlib.legend.Legend at 0x17395539c18>"
      ]
     },
     "execution_count": 13,
     "metadata": {},
     "output_type": "execute_result"
    },
    {
     "data": {
      "image/png": "[encoded data removed]",
      "text/plain": [
       "<Figure size 432x288 with 1 Axes>"
      ]
     },
     "metadata": {},
     "output_type": "display_data"
    }
   ],
   "source": [
    "plt.xlabel(\"epoch\")\n",
    "plt.ylabel(\"loss\")\n",
    "plt.plot([i for i in range(num_epochs)],discriminator_img_loss,label='discriminator image loss')\n",
    "plt.plot([i for i in range(num_epochs)],discriminator_text_loss,label='discriminator text loss')\n",
    "plt.plot([i for i in range(num_epochs)],mapper_loss,label='mapper loss')\n",
    "plt.legend(loc='upper right')"
   ]
  },
  {
   "cell_type": "markdown",
   "metadata": {},
   "source": [
    "# Just checking the updatability property"
   ]
  },
  {
   "cell_type": "code",
   "execution_count": null,
   "metadata": {
    "collapsed": true
   },
   "outputs": [],
   "source": []
  },
  {
   "cell_type": "code",
   "execution_count": null,
   "metadata": {
    "collapsed": true
   },
   "outputs": [],
   "source": []
  },
  {
   "cell_type": "code",
   "execution_count": null,
   "metadata": {
    "collapsed": true
   },
   "outputs": [],
   "source": []
  },
  {
   "cell_type": "code",
   "execution_count": null,
   "metadata": {
    "collapsed": true
   },
   "outputs": [],
   "source": []
  },
  {
   "cell_type": "code",
   "execution_count": null,
   "metadata": {
    "collapsed": true
   },
   "outputs": [],
   "source": []
  },
  {
   "cell_type": "code",
   "execution_count": 33,
   "metadata": {
    "scrolled": true
   },
   "outputs": [
    {
     "name": "stdout",
     "output_type": "stream",
     "text": [
      "torch.Size([1000, 300])\n",
      "tensor([ 0.0243,  0.0047, -0.0256, -0.0169, -0.0442, -0.0453, -0.1131,  0.0551,\n",
      "        -0.0461,  0.0131,  0.0519,  0.0186, -0.0191, -0.0738, -0.0868, -0.0707,\n",
      "        -0.0226,  0.0006, -0.0329,  0.0205, -0.0221,  0.0183,  0.0319,  0.0362,\n",
      "         0.0515,  0.0514, -0.0122, -0.0770, -0.0497,  0.0008, -0.0819,  0.0071,\n",
      "        -0.0512, -0.0012,  0.0327, -0.0019, -0.0556, -0.0267, -0.0287, -0.0166,\n",
      "         0.0016, -0.0660,  0.0065, -0.0451,  0.0758, -0.0044,  0.0253, -0.0338,\n",
      "        -0.0209, -0.0469,  0.0516, -0.0378, -0.0738,  0.0784, -0.1040, -0.0703,\n",
      "         0.0091, -0.0075,  0.0051,  0.0458, -0.0339, -0.0340, -0.0475, -0.0467,\n",
      "        -0.0878, -0.0285, -0.1398, -0.0908, -0.0277, -0.1045, -0.0224, -0.0489,\n",
      "         0.0037,  0.0161, -0.0523, -0.0347,  0.0011, -0.0794, -0.0041,  0.0271,\n",
      "         0.0117, -0.1007,  0.0237, -0.0649, -0.0836, -0.1281,  0.0106,  0.0707,\n",
      "        -0.1287, -0.0866,  0.0326, -0.0007, -0.0241, -0.1051, -0.0956, -0.0516,\n",
      "         0.0193, -0.0124,  0.0422, -0.1248, -0.0383, -0.0132, -0.0464, -0.0686,\n",
      "         0.0065, -0.0129, -0.1220, -0.0789,  0.0059, -0.1237,  0.0416, -0.0108,\n",
      "        -0.0336, -0.0823, -0.0610,  0.0163, -0.0438, -0.0163, -0.0756,  0.0659,\n",
      "        -0.0706,  0.0180, -0.0463, -0.0757, -0.0596, -0.0101,  0.0038,  0.0092,\n",
      "         0.0109, -0.0275, -0.0391, -0.1366, -0.0173, -0.1244,  0.0234, -0.0080,\n",
      "        -0.0368, -0.0027,  0.0009, -0.0258, -0.0116,  0.0031, -0.0710, -0.0811,\n",
      "        -0.0537, -0.0032, -0.1152, -0.0706, -0.0451, -0.0198,  0.1125, -0.0651,\n",
      "         0.1107,  0.0174, -0.0045, -0.0018, -0.0154,  0.0204, -0.0090, -0.0328,\n",
      "         0.0113, -0.0524, -0.0483, -0.0069, -0.0278,  0.0123,  0.0138, -0.0144,\n",
      "        -0.0590, -0.0937, -0.1248,  0.0387, -0.0042, -0.0207, -0.0453, -0.0704,\n",
      "        -0.0266,  0.0083, -0.0150,  0.0635,  0.0082, -0.1443, -0.0894, -0.0013,\n",
      "        -0.0408, -0.0163,  0.0147, -0.0125, -0.0069, -0.0431, -0.0548, -0.0906,\n",
      "        -0.0567, -0.0245,  0.0180, -0.0126, -0.1034, -0.0865, -0.0288, -0.0578,\n",
      "        -0.0290, -0.1360,  0.0249, -0.1363, -0.0498, -0.0718,  0.0068,  0.0035,\n",
      "        -0.0157, -0.0683, -0.0212,  0.0111,  0.0267, -0.0574,  0.0130, -0.0229,\n",
      "        -0.0285,  0.0225, -0.1710,  0.0414, -0.0825,  0.0310,  0.0605,  0.0025,\n",
      "        -0.0210,  0.0015, -0.0585,  0.0319, -0.0277, -0.0268, -0.0954, -0.0549,\n",
      "        -0.1285,  0.0529,  0.0061, -0.1069,  0.0140, -0.0399,  0.0152, -0.1081,\n",
      "        -0.0319, -0.0405, -0.0748, -0.0598,  0.0528, -0.0017, -0.0714, -0.0339,\n",
      "        -0.0407, -0.0379, -0.0738,  0.0237, -0.0048,  0.0104, -0.0674,  0.0140,\n",
      "        -0.0124,  0.0822,  0.0095, -0.0349,  0.0064, -0.0709, -0.0050, -0.0708,\n",
      "         0.0337,  0.0197,  0.0742, -0.0814, -0.0453,  0.0235, -0.0613, -0.0683,\n",
      "         0.0487,  0.0482, -0.0879, -0.0544, -0.0462,  0.0053, -0.0448, -0.1243,\n",
      "        -0.0989, -0.0357,  0.0302, -0.0390,  0.0180, -0.0262, -0.1159, -0.0542,\n",
      "         0.0643, -0.0499,  0.0705, -0.0505, -0.0300, -0.0226, -0.0072, -0.0423,\n",
      "         0.0479, -0.0652, -0.0796, -0.0315, -0.0575,  0.0312,  0.0134,  0.0074,\n",
      "        -0.0424,  0.0940,  0.0219, -0.0302,  0.0583, -0.0565, -0.0345,  0.0703,\n",
      "        -0.0433, -0.0881, -0.0235,  0.0497, -0.0615, -0.0556, -0.0075, -0.0889,\n",
      "        -0.0793,  0.0163,  0.0774, -0.0149,  0.0617, -0.0401,  0.0301, -0.0769,\n",
      "        -0.0037, -0.0379, -0.0293, -0.0322, -0.0787, -0.0307,  0.0518, -0.1006,\n",
      "        -0.0647, -0.0721, -0.0284, -0.0602,  0.0176, -0.0817, -0.1222, -0.0018,\n",
      "        -0.0552, -0.0170, -0.0464, -0.0656, -0.0566, -0.0532, -0.0564, -0.0978,\n",
      "         0.0341, -0.0085,  0.0225, -0.0142, -0.0579, -0.1026,  0.0148,  0.0441,\n",
      "        -0.0394, -0.0203, -0.0840, -0.0177, -0.0255,  0.0621, -0.0509, -0.0547,\n",
      "        -0.0133, -0.0739, -0.0802, -0.1011,  0.0062,  0.0600, -0.1331,  0.0330,\n",
      "        -0.1090, -0.0351,  0.0164, -0.0196,  0.0066, -0.0492,  0.0229, -0.0598,\n",
      "         0.0433, -0.0428, -0.0645, -0.0200, -0.0253, -0.0416, -0.0570,  0.0549,\n",
      "        -0.1278,  0.0318,  0.0248, -0.0393, -0.1223, -0.0014, -0.0091, -0.0610,\n",
      "         0.0081,  0.0282, -0.0428,  0.0011, -0.1283, -0.0837, -0.0635, -0.0198,\n",
      "        -0.0302, -0.0616,  0.0152, -0.0122, -0.0442, -0.0290,  0.0272, -0.0481,\n",
      "        -0.0289, -0.0196, -0.0771, -0.0222, -0.0064, -0.0191,  0.0120,  0.0059,\n",
      "         0.0272, -0.0251, -0.0171, -0.0218, -0.1070,  0.0287, -0.0306,  0.0114,\n",
      "        -0.0527,  0.0460, -0.0650,  0.0330, -0.0219, -0.0939, -0.0019, -0.0360,\n",
      "        -0.0509, -0.0405,  0.0072, -0.0270, -0.0414, -0.0093, -0.0630, -0.0180,\n",
      "        -0.0412, -0.0811,  0.0294,  0.0071,  0.0213, -0.0017, -0.0543, -0.0296,\n",
      "        -0.0874, -0.0475, -0.0299,  0.0149, -0.0397, -0.1665, -0.0287,  0.0813,\n",
      "        -0.0890, -0.0036, -0.1049, -0.0533, -0.0488, -0.0837,  0.0260, -0.0222,\n",
      "         0.0515, -0.0106, -0.0628,  0.0485,  0.0345, -0.0460, -0.0934, -0.0696,\n",
      "        -0.0536, -0.0007, -0.0285, -0.0866, -0.0210, -0.0386, -0.0726, -0.0376,\n",
      "        -0.0649, -0.0664, -0.0016,  0.0015,  0.0096, -0.0843,  0.0342, -0.0676,\n",
      "        -0.0649, -0.0746,  0.1169, -0.0529, -0.0621, -0.0416, -0.0314,  0.0997,\n",
      "        -0.0549,  0.0048, -0.0532,  0.0247,  0.0120, -0.0604, -0.0925, -0.0456,\n",
      "        -0.0621, -0.0822, -0.1038, -0.0121, -0.0677, -0.0494,  0.0521,  0.0318,\n",
      "         0.0320, -0.1085,  0.0054, -0.0376, -0.0545, -0.0574,  0.0025, -0.0415,\n",
      "        -0.0808, -0.0781, -0.0770, -0.0222, -0.0568, -0.0692,  0.0019, -0.0561,\n",
      "         0.0100, -0.0071, -0.0694, -0.0635, -0.0087,  0.0069, -0.0700,  0.0006,\n",
      "        -0.1017,  0.0089, -0.0468, -0.0876, -0.0864, -0.0238,  0.0576, -0.1273,\n",
      "        -0.0010,  0.0109, -0.1279, -0.0420, -0.0518, -0.0354, -0.0066, -0.0655,\n",
      "        -0.0677,  0.0161, -0.0753,  0.0485,  0.0815,  0.0296,  0.0279, -0.0293,\n",
      "        -0.0170, -0.0347, -0.0797,  0.0302, -0.0521, -0.0461,  0.0164, -0.0571,\n",
      "        -0.0884, -0.0065, -0.0158,  0.0264, -0.0264,  0.0550,  0.0174, -0.0603,\n",
      "        -0.1247, -0.0821, -0.0803, -0.0586, -0.0853,  0.0409, -0.0653, -0.0116,\n",
      "        -0.0239,  0.0266, -0.0938, -0.0432, -0.1992, -0.0468,  0.0192,  0.0549,\n",
      "        -0.0724, -0.0589, -0.0383, -0.0736, -0.0943, -0.0233, -0.0606, -0.0637,\n",
      "        -0.0455, -0.0140,  0.0064, -0.0550,  0.0208,  0.0146, -0.0401, -0.0287,\n",
      "        -0.0047,  0.0010,  0.0034, -0.1355, -0.0517, -0.0802, -0.0279,  0.0316,\n",
      "        -0.0281, -0.1144, -0.0001, -0.0308, -0.0411,  0.0394, -0.0231, -0.0714,\n",
      "        -0.0213,  0.0061, -0.0376, -0.1331, -0.0209,  0.0244,  0.0311,  0.0302,\n",
      "         0.0073, -0.0149, -0.0541,  0.0228, -0.0896, -0.0530, -0.0989, -0.1235,\n",
      "        -0.1050,  0.0138, -0.1018, -0.0384, -0.0519,  0.1033, -0.0965, -0.0502,\n",
      "        -0.0264, -0.0703, -0.0017, -0.0603, -0.0533, -0.0590, -0.0628, -0.0433,\n",
      "        -0.0689, -0.0052, -0.0710, -0.0489, -0.1312, -0.0336, -0.0557, -0.0118,\n",
      "         0.0074, -0.1124, -0.0146,  0.0333,  0.0369, -0.0812, -0.0792, -0.0821,\n",
      "        -0.1473, -0.0671, -0.0600, -0.0573, -0.0039, -0.0283, -0.0884,  0.0070,\n",
      "         0.0719, -0.0907, -0.0648,  0.0827,  0.0305, -0.0478, -0.0021, -0.0485,\n",
      "         0.0502, -0.0103, -0.0341, -0.1048, -0.0575, -0.0682, -0.0317,  0.0284,\n",
      "         0.0008, -0.0414,  0.0067, -0.1009,  0.0152, -0.0004,  0.0334, -0.0099,\n",
      "        -0.0172,  0.0104, -0.0362, -0.0694, -0.0565, -0.1204, -0.0013,  0.0259,\n",
      "        -0.1206, -0.0058, -0.1325, -0.0544, -0.0110, -0.1431, -0.0520, -0.0482,\n",
      "        -0.0277, -0.0007, -0.0474, -0.1106, -0.1386, -0.0403, -0.1035, -0.0385,\n",
      "        -0.0117, -0.0223,  0.0479, -0.0737,  0.0209, -0.0474, -0.0311,  0.0075,\n",
      "         0.0078,  0.1073, -0.0481,  0.0099,  0.0348, -0.0291,  0.0322, -0.0670,\n",
      "         0.0868, -0.0289,  0.0501, -0.0078, -0.0674, -0.0098, -0.0413,  0.0584,\n",
      "        -0.0469, -0.0963, -0.0763, -0.0402, -0.0538,  0.0001,  0.0139, -0.0443,\n",
      "        -0.0367,  0.0095,  0.0877,  0.0254, -0.0383, -0.0067,  0.0273, -0.0796,\n",
      "        -0.0584, -0.0073, -0.1135,  0.0466,  0.0109, -0.0060, -0.0405,  0.0531,\n",
      "        -0.0548, -0.0168, -0.0793, -0.0237, -0.0086, -0.0086, -0.0331, -0.0777,\n",
      "         0.0246,  0.0155,  0.0155, -0.1023, -0.0173, -0.1066, -0.0035, -0.0814,\n",
      "        -0.0010, -0.0663, -0.0207,  0.0689, -0.0428, -0.0171, -0.0767, -0.0444,\n",
      "         0.0047,  0.0372, -0.0796,  0.0166, -0.0578, -0.0658, -0.0602, -0.1147,\n",
      "         0.0471, -0.1258, -0.0239, -0.0048, -0.0727,  0.0157, -0.0121,  0.0834,\n",
      "        -0.0560, -0.0114, -0.0026, -0.0435, -0.0045,  0.0599,  0.0547,  0.0235,\n",
      "         0.0189, -0.0850,  0.0516,  0.0164,  0.0302,  0.0855, -0.0155, -0.0665,\n",
      "        -0.0264, -0.0351, -0.0046,  0.0317, -0.0464, -0.0851, -0.0220, -0.0195,\n",
      "        -0.0144,  0.0323, -0.0480,  0.0176, -0.0103, -0.0376, -0.0514, -0.0387,\n",
      "        -0.0439,  0.0199, -0.0244, -0.0324,  0.0623, -0.0702,  0.0547,  0.0279,\n",
      "        -0.0270, -0.0653, -0.0295,  0.0451,  0.1268,  0.0398,  0.0546, -0.0312,\n",
      "         0.0239, -0.0680,  0.0132, -0.0510, -0.0322,  0.0584, -0.0806, -0.1035,\n",
      "        -0.0040, -0.0164, -0.0314,  0.0180, -0.0386, -0.0644, -0.0345, -0.0150,\n",
      "        -0.0989, -0.0106, -0.0207, -0.0111,  0.0107,  0.0364, -0.0202, -0.0523,\n",
      "        -0.0020, -0.0625, -0.0554,  0.0147, -0.0685,  0.0262, -0.1010, -0.0073,\n",
      "        -0.0033, -0.0226, -0.0030,  0.0421, -0.0319,  0.0120, -0.0371,  0.1293,\n",
      "        -0.0579, -0.0716, -0.1374,  0.0102, -0.0537, -0.0831,  0.0293, -0.0038,\n",
      "        -0.0746, -0.0455, -0.0540, -0.0456, -0.0342, -0.0245, -0.0727, -0.0324,\n",
      "         0.0074, -0.0108,  0.0488, -0.0993,  0.0220,  0.0332, -0.0549,  0.0292,\n",
      "        -0.0707, -0.0614, -0.0683, -0.0088, -0.0240,  0.0099, -0.0436,  0.0280,\n",
      "        -0.0896, -0.0267, -0.0013,  0.0079, -0.0269, -0.0237,  0.0731, -0.0463,\n",
      "         0.0508, -0.0572,  0.0830, -0.0647,  0.0106, -0.0164, -0.0287, -0.0441,\n",
      "        -0.0540,  0.0073, -0.0047, -0.0780, -0.0133, -0.0200,  0.0298, -0.0456,\n",
      "         0.0448,  0.0256, -0.0996, -0.0898, -0.0708, -0.0516, -0.0158, -0.0883,\n",
      "        -0.0435, -0.0399, -0.0153,  0.0034, -0.0716,  0.0306,  0.0127, -0.1021,\n",
      "        -0.0174, -0.0127,  0.0198,  0.0048, -0.0968,  0.0908, -0.0446, -0.0073,\n",
      "         0.0412,  0.0014, -0.0846,  0.0551, -0.0247, -0.1254, -0.0868, -0.0465],\n",
      "       device='cuda:0', grad_fn=<ViewBackward>)\n"
     ]
    }
   ],
   "source": [
    "outed = nne( Variable(torch.from_numpy(input_img)).cuda().float(),phase='Discriminate')"
   ]
  },
  {
   "cell_type": "code",
   "execution_count": null,
   "metadata": {},
   "outputs": [],
   "source": [
    "nne.W.weight"
   ]
  },
  {
   "cell_type": "code",
   "execution_count": null,
   "metadata": {},
   "outputs": [],
   "source": [
    "nne.discriminator_thetaD.weight"
   ]
  },
  {
   "cell_type": "code",
   "execution_count": 31,
   "metadata": {
    "scrolled": true
   },
   "outputs": [
    {
     "data": {
      "text/plain": [
       "Parameter containing:\n",
       "tensor([[ 0.0006,  0.0216,  0.0131, -0.0242,  0.0107, -0.0143, -0.0436, -0.0113,\n",
       "          0.0087, -0.0412, -0.0004, -0.0240,  0.0111, -0.0146,  0.0184, -0.0101,\n",
       "          0.0460, -0.0332,  0.0337, -0.0290, -0.0135,  0.0047,  0.0121, -0.0353,\n",
       "          0.0155,  0.0205, -0.0298, -0.0323,  0.0456,  0.0313, -0.0143,  0.0055,\n",
       "          0.0454, -0.0184,  0.0489,  0.0112, -0.0038, -0.0038,  0.0149,  0.0404,\n",
       "         -0.0413, -0.0286, -0.0194, -0.0440,  0.0348, -0.0469, -0.0143, -0.0333,\n",
       "         -0.0257, -0.0161,  0.0096, -0.0213, -0.0126, -0.0290, -0.0162,  0.0383,\n",
       "         -0.0332, -0.0217,  0.0303, -0.0425,  0.0075, -0.0311, -0.0349, -0.0366,\n",
       "          0.0443, -0.0250,  0.0287, -0.0406, -0.0266,  0.0068, -0.0145, -0.0291,\n",
       "         -0.0063,  0.0451, -0.0136,  0.0085, -0.0191, -0.0369, -0.0268,  0.0104,\n",
       "          0.0069, -0.0217,  0.0350, -0.0035, -0.0396, -0.0074,  0.0164,  0.0444,\n",
       "          0.0185,  0.0406, -0.0122, -0.0413,  0.0199, -0.0208,  0.0218, -0.0325,\n",
       "          0.0151, -0.0421, -0.0190, -0.0203, -0.0449,  0.0257,  0.0291,  0.0018,\n",
       "          0.0325, -0.0250,  0.0383, -0.0243, -0.0255, -0.0363, -0.0325,  0.0045,\n",
       "          0.0228, -0.0036, -0.0084, -0.0300, -0.0274,  0.0453,  0.0441, -0.0494,\n",
       "         -0.0390, -0.0332,  0.0268,  0.0171,  0.0228, -0.0229, -0.0197,  0.0426,\n",
       "         -0.0474, -0.0150, -0.0144,  0.0443,  0.0206,  0.0173, -0.0011,  0.0279,\n",
       "         -0.0127,  0.0136, -0.0289,  0.0109, -0.0194,  0.0406, -0.0356,  0.0209,\n",
       "          0.0031,  0.0123, -0.0210, -0.0469, -0.0467,  0.0005, -0.0023, -0.0081,\n",
       "         -0.0447, -0.0453,  0.0141, -0.0196, -0.0370, -0.0038,  0.0032,  0.0413,\n",
       "         -0.0401,  0.0073, -0.0296, -0.0181, -0.0338,  0.0145, -0.0444, -0.0238,\n",
       "         -0.0088, -0.0183,  0.0474,  0.0481,  0.0336,  0.0071,  0.0361, -0.0057,\n",
       "          0.0028, -0.0321,  0.0085,  0.0075, -0.0267, -0.0287, -0.0295, -0.0299,\n",
       "         -0.0026, -0.0239,  0.0479, -0.0464, -0.0466, -0.0250,  0.0153,  0.0500,\n",
       "          0.0403, -0.0270,  0.0122, -0.0398,  0.0007,  0.0342, -0.0386, -0.0367,\n",
       "          0.0406,  0.0223,  0.0187, -0.0075,  0.0400,  0.0275, -0.0037, -0.0421,\n",
       "         -0.0256,  0.0467, -0.0035, -0.0430, -0.0194, -0.0188, -0.0428, -0.0449,\n",
       "         -0.0077, -0.0072,  0.0069, -0.0209, -0.0051, -0.0091, -0.0155, -0.0202,\n",
       "         -0.0161,  0.0499, -0.0366, -0.0009, -0.0002, -0.0083, -0.0182, -0.0226,\n",
       "         -0.0145,  0.0353,  0.0062,  0.0090,  0.0120, -0.0457,  0.0497,  0.0461,\n",
       "          0.0358, -0.0136,  0.0479, -0.0277, -0.0148, -0.0046, -0.0396,  0.0015,\n",
       "          0.0036, -0.0412, -0.0180,  0.0405, -0.0045, -0.0392, -0.0428,  0.0396,\n",
       "         -0.0035,  0.0149, -0.0173, -0.0100,  0.0464, -0.0010,  0.0011, -0.0247,\n",
       "         -0.0352, -0.0474, -0.0245,  0.0118, -0.0146, -0.0272,  0.0127,  0.0255,\n",
       "          0.0288,  0.0094, -0.0356, -0.0055,  0.0229, -0.0315, -0.0076,  0.0230,\n",
       "          0.0184,  0.0407, -0.0334, -0.0130,  0.0473, -0.0435,  0.0329, -0.0147,\n",
       "          0.0138,  0.0375,  0.0351,  0.0280,  0.0204,  0.0151, -0.0172,  0.0387,\n",
       "         -0.0186, -0.0362, -0.0306, -0.0206, -0.0326, -0.0206, -0.0376,  0.0019,\n",
       "         -0.0228,  0.0401,  0.0162,  0.0019,  0.0311,  0.0423,  0.0279,  0.0310,\n",
       "         -0.0022, -0.0105,  0.0321, -0.0036,  0.0149, -0.0253, -0.0364,  0.0341,\n",
       "         -0.0462,  0.0257, -0.0023,  0.0266,  0.0237,  0.0187,  0.0137,  0.0478,\n",
       "         -0.0341, -0.0098,  0.0306, -0.0088,  0.0173,  0.0389,  0.0448, -0.0260,\n",
       "         -0.0480,  0.0282, -0.0253, -0.0099, -0.0158,  0.0226, -0.0379, -0.0369,\n",
       "          0.0212, -0.0169, -0.0025,  0.0175, -0.0264,  0.0312,  0.0194,  0.0022,\n",
       "          0.0365,  0.0313, -0.0302, -0.0444,  0.0090,  0.0228, -0.0388, -0.0297,\n",
       "          0.0175,  0.0000, -0.0213, -0.0070,  0.0491,  0.0304, -0.0344,  0.0350,\n",
       "         -0.0100, -0.0006, -0.0346,  0.0326,  0.0470, -0.0171, -0.0152,  0.0300,\n",
       "         -0.0461,  0.0197,  0.0243,  0.0119,  0.0360,  0.0428,  0.0463, -0.0315,\n",
       "         -0.0454, -0.0239, -0.0406,  0.0239,  0.0037,  0.0092,  0.0270, -0.0165,\n",
       "         -0.0016,  0.0098, -0.0096, -0.0042,  0.0062,  0.0054,  0.0179,  0.0105]],\n",
       "       device='cuda:0', requires_grad=True)"
      ]
     },
     "execution_count": 31,
     "metadata": {},
     "output_type": "execute_result"
    }
   ],
   "source": [
    "nne.discriminator_hiddn.weight"
   ]
  },
  {
   "cell_type": "code",
   "execution_count": 32,
   "metadata": {},
   "outputs": [
    {
     "data": {
      "text/plain": [
       "torch.Size([1000])"
      ]
     },
     "execution_count": 32,
     "metadata": {},
     "output_type": "execute_result"
    }
   ],
   "source": [
    "outed.shape"
   ]
  },
  {
   "cell_type": "code",
   "execution_count": null,
   "metadata": {},
   "outputs": [],
   "source": []
  },
  {
   "cell_type": "code",
   "execution_count": 21,
   "metadata": {},
   "outputs": [],
   "source": [
    "loss = criterion(outed,torch.ones(1000))\n",
    "loss.backward()\n",
    "optimizer.step()"
   ]
  },
  {
   "cell_type": "code",
   "execution_count": 22,
   "metadata": {},
   "outputs": [
    {
     "data": {
      "text/plain": [
       "Parameter containing:\n",
       "tensor([[ 0.0297, -0.0255, -0.0112,  ...,  0.0007, -0.0330, -0.0323],\n",
       "        [-0.0087, -0.0167,  0.0141,  ..., -0.0150, -0.0009,  0.0567],\n",
       "        [ 0.0388, -0.0043,  0.0566,  ...,  0.0475, -0.0140,  0.0021],\n",
       "        ...,\n",
       "        [ 0.0479,  0.0255,  0.0026,  ..., -0.0493, -0.0470,  0.0084],\n",
       "        [-0.0123, -0.0536, -0.0290,  ...,  0.0452,  0.0064, -0.0413],\n",
       "        [ 0.0074,  0.0007,  0.0109,  ..., -0.0207,  0.0500,  0.0514]],\n",
       "       requires_grad=True)"
      ]
     },
     "execution_count": 22,
     "metadata": {},
     "output_type": "execute_result"
    }
   ],
   "source": [
    "nne.W.weight"
   ]
  },
  {
   "cell_type": "code",
   "execution_count": 23,
   "metadata": {},
   "outputs": [
    {
     "data": {
      "text/plain": [
       "Parameter containing:\n",
       "tensor([[-0.0299, -0.0288, -0.0171,  ...,  0.0355,  0.0556, -0.0168],\n",
       "        [ 0.0153, -0.0307,  0.0017,  ..., -0.0024, -0.0273,  0.0022],\n",
       "        [-0.0444, -0.0501, -0.0237,  ..., -0.0554, -0.0141,  0.0302],\n",
       "        ...,\n",
       "        [ 0.0416, -0.0026, -0.0562,  ..., -0.0080, -0.0514, -0.0418],\n",
       "        [ 0.0553,  0.0548, -0.0161,  ..., -0.0388, -0.0459, -0.0495],\n",
       "        [ 0.0285,  0.0144, -0.0449,  ..., -0.0126,  0.0344, -0.0138]],\n",
       "       requires_grad=True)"
      ]
     },
     "execution_count": 23,
     "metadata": {},
     "output_type": "execute_result"
    }
   ],
   "source": [
    "nne.discriminator_thetaD.weight"
   ]
  },
  {
   "cell_type": "code",
   "execution_count": null,
   "metadata": {
    "collapsed": true
   },
   "outputs": [],
   "source": []
  }
 ],
 "metadata": {
  "kernelspec": {
   "display_name": "Python [default]",
   "language": "python",
   "name": "python3"
  },
  "language_info": {
   "codemirror_mode": {
    "name": "ipython",
    "version": 3
   },
   "file_extension": ".py",
   "mimetype": "text/x-python",
   "name": "python",
   "nbconvert_exporter": "python",
   "pygments_lexer": "ipython3",
   "version": "3.6.6"
  }
 },
 "nbformat": 4,
 "nbformat_minor": 2
}
